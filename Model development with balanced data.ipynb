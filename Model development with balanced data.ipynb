{
 "cells": [
  {
   "cell_type": "code",
   "execution_count": null,
   "id": "e4cc66dc",
   "metadata": {},
   "outputs": [],
   "source": [
    "#We need to built two model \n",
    "#We will first build a logistic regression and Support vector machine second"
   ]
  },
  {
   "cell_type": "code",
   "execution_count": 1,
   "id": "6b6e5a67",
   "metadata": {},
   "outputs": [],
   "source": [
    "#import libs\n",
    "import pandas as pd\n",
    "import numpy as np\n",
    "from sklearn.metrics import roc_auc_score\n",
    "from sklearn.model_selection import train_test_split\n",
    "from sklearn.svm import SVC\n",
    "from sklearn.model_selection import GridSearchCV\n",
    "from sklearn.linear_model import LogisticRegression\n",
    "from sklearn.feature_selection import RFECV\n",
    "import pickle"
   ]
  },
  {
   "cell_type": "code",
   "execution_count": 2,
   "id": "88453da4",
   "metadata": {},
   "outputs": [],
   "source": [
    "#work on spliting data\n",
    "\n",
    "#open x abd y df's\n",
    "with open('X_res', 'rb') as x:\n",
    "    X_res = pickle.load(x)"
   ]
  },
  {
   "cell_type": "code",
   "execution_count": 3,
   "id": "9ec9737e",
   "metadata": {},
   "outputs": [],
   "source": [
    "with open('y_res', 'rb') as y:\n",
    "    y_res = pickle.load(y)"
   ]
  },
  {
   "cell_type": "code",
   "execution_count": 4,
   "id": "a60b92de",
   "metadata": {},
   "outputs": [],
   "source": [
    "#split x and y data into train/test sets\n",
    "X_train, X_test, y_train, y_test = train_test_split(X_res,\n",
    "                                  y_res,\n",
    "                                  test_size=0.2,\n",
    "                                  random_state=1)\n",
    "\n"
   ]
  },
  {
   "cell_type": "code",
   "execution_count": 5,
   "id": "a53562f9",
   "metadata": {},
   "outputs": [],
   "source": [
    "#since we need to use Auc as metric evaluation\n",
    "score = 'roc_auc'"
   ]
  },
  {
   "cell_type": "code",
   "execution_count": 6,
   "id": "9ae985ce",
   "metadata": {},
   "outputs": [],
   "source": [
    "#logistic regression without feature selection\n",
    "classifier = LogisticRegression(random_state = 0,max_iter=10000)\n",
    "classifier.fit(X_train, y_train)\n",
    "y_pred = classifier.predict(X_test)"
   ]
  },
  {
   "cell_type": "code",
   "execution_count": 7,
   "id": "24aca3af",
   "metadata": {},
   "outputs": [],
   "source": [
    "from sklearn.metrics import confusion_matrix\n",
    "cm = confusion_matrix(y_test, y_pred)"
   ]
  },
  {
   "cell_type": "code",
   "execution_count": 8,
   "id": "344841c3",
   "metadata": {},
   "outputs": [
    {
     "name": "stdout",
     "output_type": "stream",
     "text": [
      "AUC:  0.72239926445074\n",
      "Accuracy :  0.7221288105855691\n",
      "Precision:  0.7073887489504618\n",
      "Recall:  0.7472283813747228\n"
     ]
    }
   ],
   "source": [
    "from sklearn.metrics import accuracy_score\n",
    "from sklearn.metrics import precision_score, \\\n",
    "    recall_score\n",
    "print('AUC: ', roc_auc_score(y_test, y_pred))\n",
    "print (\"Accuracy : \", accuracy_score(y_test, y_pred))\n",
    "print('Precision: ', precision_score(y_test, y_pred))\n",
    "print('Recall: ', recall_score(y_test, y_pred))"
   ]
  },
  {
   "cell_type": "code",
   "execution_count": 9,
   "id": "93586ff2",
   "metadata": {},
   "outputs": [],
   "source": [
    "#Setup recursive feature reduction w/ cross validation\n",
    "clf2 = RFECV(LogisticRegression(max_iter=10000),\n",
    "      scoring = score,\n",
    "      n_jobs = -1,\n",
    "      cv = 3,\n",
    "      step = 5)"
   ]
  },
  {
   "cell_type": "code",
   "execution_count": 10,
   "id": "ecf827dd",
   "metadata": {},
   "outputs": [
    {
     "data": {
      "text/html": [
       "<style>#sk-container-id-1 {color: black;background-color: white;}#sk-container-id-1 pre{padding: 0;}#sk-container-id-1 div.sk-toggleable {background-color: white;}#sk-container-id-1 label.sk-toggleable__label {cursor: pointer;display: block;width: 100%;margin-bottom: 0;padding: 0.3em;box-sizing: border-box;text-align: center;}#sk-container-id-1 label.sk-toggleable__label-arrow:before {content: \"▸\";float: left;margin-right: 0.25em;color: #696969;}#sk-container-id-1 label.sk-toggleable__label-arrow:hover:before {color: black;}#sk-container-id-1 div.sk-estimator:hover label.sk-toggleable__label-arrow:before {color: black;}#sk-container-id-1 div.sk-toggleable__content {max-height: 0;max-width: 0;overflow: hidden;text-align: left;background-color: #f0f8ff;}#sk-container-id-1 div.sk-toggleable__content pre {margin: 0.2em;color: black;border-radius: 0.25em;background-color: #f0f8ff;}#sk-container-id-1 input.sk-toggleable__control:checked~div.sk-toggleable__content {max-height: 200px;max-width: 100%;overflow: auto;}#sk-container-id-1 input.sk-toggleable__control:checked~label.sk-toggleable__label-arrow:before {content: \"▾\";}#sk-container-id-1 div.sk-estimator input.sk-toggleable__control:checked~label.sk-toggleable__label {background-color: #d4ebff;}#sk-container-id-1 div.sk-label input.sk-toggleable__control:checked~label.sk-toggleable__label {background-color: #d4ebff;}#sk-container-id-1 input.sk-hidden--visually {border: 0;clip: rect(1px 1px 1px 1px);clip: rect(1px, 1px, 1px, 1px);height: 1px;margin: -1px;overflow: hidden;padding: 0;position: absolute;width: 1px;}#sk-container-id-1 div.sk-estimator {font-family: monospace;background-color: #f0f8ff;border: 1px dotted black;border-radius: 0.25em;box-sizing: border-box;margin-bottom: 0.5em;}#sk-container-id-1 div.sk-estimator:hover {background-color: #d4ebff;}#sk-container-id-1 div.sk-parallel-item::after {content: \"\";width: 100%;border-bottom: 1px solid gray;flex-grow: 1;}#sk-container-id-1 div.sk-label:hover label.sk-toggleable__label {background-color: #d4ebff;}#sk-container-id-1 div.sk-serial::before {content: \"\";position: absolute;border-left: 1px solid gray;box-sizing: border-box;top: 0;bottom: 0;left: 50%;z-index: 0;}#sk-container-id-1 div.sk-serial {display: flex;flex-direction: column;align-items: center;background-color: white;padding-right: 0.2em;padding-left: 0.2em;position: relative;}#sk-container-id-1 div.sk-item {position: relative;z-index: 1;}#sk-container-id-1 div.sk-parallel {display: flex;align-items: stretch;justify-content: center;background-color: white;position: relative;}#sk-container-id-1 div.sk-item::before, #sk-container-id-1 div.sk-parallel-item::before {content: \"\";position: absolute;border-left: 1px solid gray;box-sizing: border-box;top: 0;bottom: 0;left: 50%;z-index: -1;}#sk-container-id-1 div.sk-parallel-item {display: flex;flex-direction: column;z-index: 1;position: relative;background-color: white;}#sk-container-id-1 div.sk-parallel-item:first-child::after {align-self: flex-end;width: 50%;}#sk-container-id-1 div.sk-parallel-item:last-child::after {align-self: flex-start;width: 50%;}#sk-container-id-1 div.sk-parallel-item:only-child::after {width: 0;}#sk-container-id-1 div.sk-dashed-wrapped {border: 1px dashed gray;margin: 0 0.4em 0.5em 0.4em;box-sizing: border-box;padding-bottom: 0.4em;background-color: white;}#sk-container-id-1 div.sk-label label {font-family: monospace;font-weight: bold;display: inline-block;line-height: 1.2em;}#sk-container-id-1 div.sk-label-container {text-align: center;}#sk-container-id-1 div.sk-container {/* jupyter's `normalize.less` sets `[hidden] { display: none; }` but bootstrap.min.css set `[hidden] { display: none !important; }` so we also need the `!important` here to be able to override the default hidden behavior on the sphinx rendered scikit-learn.org. See: https://github.com/scikit-learn/scikit-learn/issues/21755 */display: inline-block !important;position: relative;}#sk-container-id-1 div.sk-text-repr-fallback {display: none;}</style><div id=\"sk-container-id-1\" class=\"sk-top-container\"><div class=\"sk-text-repr-fallback\"><pre>RFECV(cv=3, estimator=LogisticRegression(max_iter=10000), n_jobs=-1,\n",
       "      scoring=&#x27;roc_auc&#x27;, step=5)</pre><b>In a Jupyter environment, please rerun this cell to show the HTML representation or trust the notebook. <br />On GitHub, the HTML representation is unable to render, please try loading this page with nbviewer.org.</b></div><div class=\"sk-container\" hidden><div class=\"sk-item sk-dashed-wrapped\"><div class=\"sk-label-container\"><div class=\"sk-label sk-toggleable\"><input class=\"sk-toggleable__control sk-hidden--visually\" id=\"sk-estimator-id-1\" type=\"checkbox\" ><label for=\"sk-estimator-id-1\" class=\"sk-toggleable__label sk-toggleable__label-arrow\">RFECV</label><div class=\"sk-toggleable__content\"><pre>RFECV(cv=3, estimator=LogisticRegression(max_iter=10000), n_jobs=-1,\n",
       "      scoring=&#x27;roc_auc&#x27;, step=5)</pre></div></div></div><div class=\"sk-parallel\"><div class=\"sk-parallel-item\"><div class=\"sk-item\"><div class=\"sk-label-container\"><div class=\"sk-label sk-toggleable\"><input class=\"sk-toggleable__control sk-hidden--visually\" id=\"sk-estimator-id-2\" type=\"checkbox\" ><label for=\"sk-estimator-id-2\" class=\"sk-toggleable__label sk-toggleable__label-arrow\">estimator: LogisticRegression</label><div class=\"sk-toggleable__content\"><pre>LogisticRegression(max_iter=10000)</pre></div></div></div><div class=\"sk-serial\"><div class=\"sk-item\"><div class=\"sk-estimator sk-toggleable\"><input class=\"sk-toggleable__control sk-hidden--visually\" id=\"sk-estimator-id-3\" type=\"checkbox\" ><label for=\"sk-estimator-id-3\" class=\"sk-toggleable__label sk-toggleable__label-arrow\">LogisticRegression</label><div class=\"sk-toggleable__content\"><pre>LogisticRegression(max_iter=10000)</pre></div></div></div></div></div></div></div></div></div></div>"
      ],
      "text/plain": [
       "RFECV(cv=3, estimator=LogisticRegression(max_iter=10000), n_jobs=-1,\n",
       "      scoring='roc_auc', step=5)"
      ]
     },
     "execution_count": 10,
     "metadata": {},
     "output_type": "execute_result"
    }
   ],
   "source": [
    "clf2.fit(X_train, y_train)"
   ]
  },
  {
   "cell_type": "code",
   "execution_count": 11,
   "id": "8d448540",
   "metadata": {
    "scrolled": true
   },
   "outputs": [
    {
     "name": "stdout",
     "output_type": "stream",
     "text": [
      "AUC:  0.794756485603618\n",
      "Accuracy:  0.7218363915490899\n"
     ]
    }
   ],
   "source": [
    "#Generate predicted probabilites\n",
    "clf2_probs = clf2.predict_proba(X_test)\n",
    "print('AUC: ', roc_auc_score(y_test, clf2_probs[:,1]))\n",
    "print('Accuracy: ', clf2.score(X_test, y_test))"
   ]
  },
  {
   "cell_type": "code",
   "execution_count": 12,
   "id": "5bbaec3c",
   "metadata": {},
   "outputs": [],
   "source": [
    "#Pickle logistic regression\n",
    "with open('clf2', 'wb') as c:\n",
    "    pickle.dump(clf2, c, pickle.HIGHEST_PROTOCOL)"
   ]
  },
  {
   "cell_type": "code",
   "execution_count": null,
   "id": "cd85ef15",
   "metadata": {},
   "outputs": [],
   "source": []
  },
  {
   "cell_type": "code",
   "execution_count": null,
   "id": "5c30d9c7",
   "metadata": {},
   "outputs": [],
   "source": []
  },
  {
   "cell_type": "code",
   "execution_count": null,
   "id": "ac9786d3",
   "metadata": {},
   "outputs": [],
   "source": [
    "import sys\n",
    "!{sys.executable} -m pip install xgboost"
   ]
  },
  {
   "cell_type": "code",
   "execution_count": 23,
   "id": "9e2d5fdb",
   "metadata": {},
   "outputs": [],
   "source": [
    "import xgboost as xgb\n",
    "dtrain = xgb.DMatrix(X_train, label=y_train)\n",
    "dtest = xgb.DMatrix(X_test, label=y_test)"
   ]
  },
  {
   "cell_type": "code",
   "execution_count": 24,
   "id": "043523ef",
   "metadata": {},
   "outputs": [],
   "source": [
    "param = {\n",
    "'objective': 'multi:softprob',\n",
    "'eta': 0.4,\n",
    "'max_depth': 3,\n",
    "'gamma': 1.0,\n",
    "'num_class': 3 }"
   ]
  },
  {
   "cell_type": "code",
   "execution_count": 25,
   "id": "7fc87dd5",
   "metadata": {},
   "outputs": [],
   "source": [
    "model = xgb.train(param, dtrain,100)"
   ]
  },
  {
   "cell_type": "code",
   "execution_count": 30,
   "id": "d11d1cbd",
   "metadata": {},
   "outputs": [
    {
     "data": {
      "text/plain": [
       "array([[9.9424970e-01, 5.7478831e-03, 2.4058534e-06],\n",
       "       [5.4970793e-03, 9.9450016e-01, 2.7917201e-06],\n",
       "       [7.4510253e-04, 9.9925405e-01, 8.8578895e-07],\n",
       "       ...,\n",
       "       [5.5116928e-01, 4.4881216e-01, 1.8611692e-05],\n",
       "       [9.4459903e-01, 5.5393264e-02, 7.6806218e-06],\n",
       "       [9.6736139e-01, 3.2632697e-02, 5.9070171e-06]], dtype=float32)"
      ]
     },
     "execution_count": 30,
     "metadata": {},
     "output_type": "execute_result"
    }
   ],
   "source": [
    "y_pred = model.predict(dtest)\n",
    "predicts = np.asarray([np.argmax(val) for val in y_pred])\n",
    "y_pred"
   ]
  },
  {
   "cell_type": "code",
   "execution_count": 27,
   "id": "65a81d16",
   "metadata": {},
   "outputs": [
    {
     "name": "stdout",
     "output_type": "stream",
     "text": [
      "Accuracy = 0.918122669785803\n",
      "AUC:  0.9175363632301481\n"
     ]
    }
   ],
   "source": [
    "from sklearn.metrics import accuracy_score\n",
    "acc = accuracy_score(y_test, predicts)\n",
    "print('Accuracy = {}'.format(acc))\n",
    "print('AUC: ', roc_auc_score(y_test, predicts))"
   ]
  },
  {
   "cell_type": "code",
   "execution_count": 29,
   "id": "9396833e",
   "metadata": {},
   "outputs": [],
   "source": [
    "#Pickle xgboost model\n",
    "with open('model', 'wb') as c:\n",
    "    pickle.dump(model, c, pickle.HIGHEST_PROTOCOL)"
   ]
  },
  {
   "cell_type": "code",
   "execution_count": null,
   "id": "a43a9ce0",
   "metadata": {},
   "outputs": [],
   "source": []
  },
  {
   "cell_type": "code",
   "execution_count": null,
   "id": "f99aeade",
   "metadata": {},
   "outputs": [],
   "source": []
  },
  {
   "cell_type": "code",
   "execution_count": null,
   "id": "535feed7",
   "metadata": {},
   "outputs": [],
   "source": []
  }
 ],
 "metadata": {
  "kernelspec": {
   "display_name": "Python 3",
   "language": "python",
   "name": "python3"
  },
  "language_info": {
   "codemirror_mode": {
    "name": "ipython",
    "version": 3
   },
   "file_extension": ".py",
   "mimetype": "text/x-python",
   "name": "python",
   "nbconvert_exporter": "python",
   "pygments_lexer": "ipython3",
   "version": "3.8.8"
  }
 },
 "nbformat": 4,
 "nbformat_minor": 5
}
