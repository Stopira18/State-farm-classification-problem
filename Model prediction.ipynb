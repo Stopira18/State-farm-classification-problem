{
 "cells": [
  {
   "cell_type": "code",
   "execution_count": 44,
   "id": "2ed5926c",
   "metadata": {},
   "outputs": [],
   "source": [
    "#import libs\n",
    "import os\n",
    "import pandas as pd\n",
    "import numpy as np\n",
    "import pickle\n",
    "import xgboost as xgb"
   ]
  },
  {
   "cell_type": "code",
   "execution_count": 45,
   "id": "351b3b13",
   "metadata": {},
   "outputs": [],
   "source": [
    "#Open both models and the test data\n",
    "\n",
    "with open('model', 'rb') as c:\n",
    "    model = pickle.load(c)\n",
    "    \n",
    "with open('clf2', 'rb') as c2:\n",
    "    clf2 = pickle.load(c2)\n",
    "    \n",
    "with open('x_tesda_test', 'rb') as x:\n",
    "    x_tesda = pickle.load(x)\n",
    "\n",
    "x_tesda=np.array(x_tesda)\n",
    "x_tesd = xgb.DMatrix(x_tesda)"
   ]
  },
  {
   "cell_type": "code",
   "execution_count": 46,
   "id": "9018b54d",
   "metadata": {},
   "outputs": [],
   "source": [
    "#Save the 10000 predictions of both model\n",
    "\n",
    "clf2_probs = clf2.predict_proba(x_tesda)\n",
    "np.savetxt(\"glmresults.csv\", clf2_probs[:,1], delimiter=\",\") # logistic regression prediction"
   ]
  },
  {
   "cell_type": "code",
   "execution_count": 47,
   "id": "c4b5c10f",
   "metadata": {},
   "outputs": [],
   "source": [
    "clf_probs = model.predict(x_tesd)\n",
    "np.savetxt(\"nonglmresults.csv\", clf_probs[:,1], delimiter=\",\") # xgboost prediction"
   ]
  },
  {
   "cell_type": "code",
   "execution_count": null,
   "id": "7c51a63c",
   "metadata": {},
   "outputs": [],
   "source": []
  }
 ],
 "metadata": {
  "kernelspec": {
   "display_name": "Python 3",
   "language": "python",
   "name": "python3"
  },
  "language_info": {
   "codemirror_mode": {
    "name": "ipython",
    "version": 3
   },
   "file_extension": ".py",
   "mimetype": "text/x-python",
   "name": "python",
   "nbconvert_exporter": "python",
   "pygments_lexer": "ipython3",
   "version": "3.8.8"
  }
 },
 "nbformat": 4,
 "nbformat_minor": 5
}
